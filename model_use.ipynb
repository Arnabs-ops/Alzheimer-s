{
  "cells": [
    {
      "cell_type": "markdown",
      "metadata": {},
      "source": [
        "# Alzheimer's Disease Prediction - Model Use\n",
        "\n",
        "This notebook loads a saved model and runs predictions on new data.\n"
      ]
    },
    {
      "cell_type": "code",
      "execution_count": null,
      "metadata": {},
      "outputs": [],
      "source": [
        "# Setup\n",
        "import os, sys, warnings\n",
        "warnings.filterwarnings('ignore')\n",
        "\n",
        "sys.path.append('./src')\n",
        "\n",
        "import numpy as np\n",
        "import pandas as pd\n",
        "import joblib\n",
        "\n",
        "MODEL_PATH = 'results/best_model_Random_Forest.pkl'  # update if different\n",
        "\n"
      ]
    },
    {
      "cell_type": "code",
      "execution_count": null,
      "metadata": {},
      "outputs": [],
      "source": [
        "# Load model\n",
        "model = joblib.load(MODEL_PATH)\n",
        "print('Loaded model:', type(model).__name__)\n"
      ]
    },
    {
      "cell_type": "code",
      "execution_count": null,
      "metadata": {},
      "outputs": [],
      "source": [
        "# Example inference on CSV\n",
        "# Provide a CSV with the same feature columns used in training (no target column)\n",
        "INPUT_CSV = 'data/alzheimers_filtered.csv'  # replace with unseen data for real inference\n",
        "\n",
        "df = pd.read_csv(INPUT_CSV)\n",
        "if 'diagnosis' in df.columns:\n",
        "\tdf = df.drop(columns=['diagnosis'])\n",
        "\n",
        "pred = model.predict(df.values)\n",
        "proba = model.predict_proba(df.values)[:, 1] if hasattr(model, 'predict_proba') else None\n",
        "\n",
        "print('Predictions shape:', pred.shape)\n",
        "print('Probabilities available:', proba is not None)\n",
        "\n",
        "df_out = pd.DataFrame({'prediction': pred})\n",
        "if proba is not None:\n",
        "\tdf_out['probability'] = proba\n",
        "\n",
        "df_out.head()\n"
      ]
    }
  ],
  "metadata": {
    "language_info": {
      "name": "python"
    }
  },
  "nbformat": 4,
  "nbformat_minor": 2
}
